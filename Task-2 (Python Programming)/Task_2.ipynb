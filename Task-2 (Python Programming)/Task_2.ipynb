{
  "nbformat": 4,
  "nbformat_minor": 0,
  "metadata": {
    "colab": {
      "name": "Task_2.ipynb",
      "provenance": [],
      "collapsed_sections": []
    },
    "kernelspec": {
      "name": "python3",
      "display_name": "Python 3"
    },
    "language_info": {
      "name": "python"
    }
  },
  "cells": [
    {
      "cell_type": "code",
      "metadata": {
        "id": "QQrvusHN0D6K"
      },
      "source": [
        "#Question no :1\n",
        "\n",
        "if __name__ == '__main__':\n",
        "    a = int(input())\n",
        "    b = int(input())\n",
        "    c = int(input())\n",
        "    N = int(input())\n",
        "\n",
        "    print(list([i,j,k] \n",
        "    for i in range(a+1) \n",
        "    for j in range(b+1) \n",
        "    for k in range(c+1) \n",
        "    if i+j+k !=N))\n"
      ],
      "execution_count": null,
      "outputs": []
    },
    {
      "cell_type": "code",
      "metadata": {
        "id": "oUYcUVfL4IFt"
      },
      "source": [
        "#Question no: 2\n",
        "\n",
        "if __name__ == '__main__':\n",
        "    N = int(input())\n",
        "    arr = map(int, input().split())\n",
        "    arr = list(arr)\n",
        "    a = max(arr)\n",
        "    b = -9999999\n",
        "    for i in range(0,N):\n",
        "        if arr[i]<a and arr[i] > b:\n",
        "            b = arr[i]\n",
        "    \n",
        "    print(b)"
      ],
      "execution_count": null,
      "outputs": []
    },
    {
      "cell_type": "code",
      "metadata": {
        "id": "mPcLCQEf4IX6"
      },
      "source": [
        "#Question no 3:\n",
        "\n",
        "if __name__ == '__main__':\n",
        "    students = []\n",
        "    for _ in range(int(input())):\n",
        "        name = input()\n",
        "        score = float(input())\n",
        "        students.append([name,score]) \n",
        "    a = 99999\n",
        "    for i in range(len(students)):\n",
        "        if a > float(students[i][1]):\n",
        "            a = float(students[i][1])\n",
        "    b = 999999\n",
        "    for i in range(len(students)):\n",
        "        if float(students[i][1]) > float(a) and b > float(students[i][1]):\n",
        "            b = float(students[i][1])\n",
        "    runner = []\n",
        "    for i in range(len(students)):\n",
        "        if float(students[i][1]) == float(b):\n",
        "            runner.append(students[i][0])\n",
        "    runner = sorted(runner)\n",
        "\n",
        "    for i in range(len(runner)):\n",
        "        print(runner[i])"
      ],
      "execution_count": null,
      "outputs": []
    },
    {
      "cell_type": "code",
      "metadata": {
        "id": "NUElgDcQDjd3"
      },
      "source": [
        "#Question no :4\n",
        "\n",
        "if __name__ == '__main__':\n",
        "    N = int(input())\n",
        "    student_marks = {}\n",
        "    for _ in range(N):\n",
        "        name, *line = input().split()\n",
        "        scores = list(map(float, line))\n",
        "        student_marks[name] = scores\n",
        "    query_name = input()\n",
        "\n",
        "    if query_name in student_marks:\n",
        "        A = ((float(student_marks[query_name][0]) + float(student_marks[query_name][1]) + float(student_marks[query_name][2])) / 3)\n",
        "    \n",
        "    print('%.2f' % A)\n"
      ],
      "execution_count": null,
      "outputs": []
    },
    {
      "cell_type": "code",
      "metadata": {
        "id": "Y2rE_hGTDjvf"
      },
      "source": [
        "# Question no: 5\n",
        "\n",
        "\n",
        "if __name__ == '__main__':\n",
        "    X = int(input())\n",
        "    empty = []\n",
        "    conv = []\n",
        "\n",
        "    for i in range(X):\n",
        "        a = input().split()\n",
        "        empty.append(a)\n",
        "\n",
        "    for i in range(len(empty)):\n",
        "        if empty[i][0] == 'insert':\n",
        "            a = int(empty[i][1])\n",
        "            b = int(empty[i][2])\n",
        "            conv.insert(a,b)\n",
        "        elif empty[i][0] == 'print':\n",
        "            print(conv)\n",
        "        elif empty[i][0] == 'remove':\n",
        "            conv.remove(int(empty[i][1]))\n",
        "        elif empty[i][0] == 'append':\n",
        "            conv.append(int(empty[i][1]))\n",
        "        elif empty[i][0] == 'sort':\n",
        "            conv.sort()\n",
        "        elif empty[i][0] == 'pop':\n",
        "            conv.pop()\n",
        "        elif empty[i][0] == 'reverse':\n",
        "            conv.reverse()"
      ],
      "execution_count": null,
      "outputs": []
    },
    {
      "cell_type": "code",
      "metadata": {
        "id": "RhUUxUsH4Iiv"
      },
      "source": [
        "#Question no: 6\n",
        "\n",
        "if __name__ == '__main__':\n",
        "    a = int(input())\n",
        "    integer_list = map(int, input().split())\n",
        "    tup = ()\n",
        "    for b in integer_list:\n",
        "        tup+=(b,)\n",
        "    \n",
        "    print(hash(tup))"
      ],
      "execution_count": null,
      "outputs": []
    },
    {
      "cell_type": "code",
      "metadata": {
        "id": "FQ1fpzuLUl1a"
      },
      "source": [
        "#Question no: 7\n",
        "\n",
        "def average(arr):\n",
        "    return sum(set(arr))/len(set(arr))\n",
        "  "
      ],
      "execution_count": 1,
      "outputs": []
    },
    {
      "cell_type": "code",
      "metadata": {
        "id": "xCeGGGluUmSt"
      },
      "source": [
        "#Question no: 8\n",
        "\n",
        "x, y = input().split()\n",
        "\n",
        "sc_ar = input().split()\n",
        "\n",
        "C = set(input().split())\n",
        "D = set(input().split())\n",
        "print(sum([(i in C) - (i in D) for i in sc_ar]))"
      ],
      "execution_count": null,
      "outputs": []
    },
    {
      "cell_type": "code",
      "metadata": {
        "id": "kzaPGf6hqHNs"
      },
      "source": [
        "#Question no: 9\n",
        "\n",
        "x,y = [set(input().split()) for _ in range(4)][1::2]\n",
        "print('\\n'.join(sorted(x^y, key=int)))"
      ],
      "execution_count": null,
      "outputs": []
    },
    {
      "cell_type": "code",
      "metadata": {
        "id": "qAIsB5fDqHVw"
      },
      "source": [
        "#Question no: 10\n",
        "\n",
        "x = set()\n",
        "[x.add(input()) for _ in range(int(input()))]\n",
        "print(len(x))"
      ],
      "execution_count": null,
      "outputs": []
    },
    {
      "cell_type": "code",
      "metadata": {
        "id": "NaqoWvZWt1JC"
      },
      "source": [
        "#Question no: 11\n",
        "\n",
        "num = int(input())\n",
        "data = set(map(int, input().split()))\n",
        "operations = int(input())\n",
        "\n",
        "for x in range(operations):\n",
        "  oper = input().split()\n",
        "  if oper[0] == \"remove\":\n",
        "    data.remove(int(oper[1]))\n",
        "  elif oper[0] == \"discard\":\n",
        "    data.discard(int(oper[1]))\n",
        "  else:\n",
        "    data.pop()\n",
        "    \n",
        "print(sum(data))"
      ],
      "execution_count": null,
      "outputs": []
    },
    {
      "cell_type": "code",
      "metadata": {
        "id": "kwLOuK6ot1MN"
      },
      "source": [
        "#Question no. 12:\n",
        "\n",
        "n = int(input())\n",
        "l = list(input().split())\n",
        "m = int(input())\n",
        "k = list(input().split())\n",
        "\n",
        "s1 = set(l)\n",
        "s2 = set(k)\n",
        "\n",
        "print(len(s1.union(s2)))"
      ],
      "execution_count": null,
      "outputs": []
    },
    {
      "cell_type": "code",
      "metadata": {
        "id": "xTvZl13tt1P0"
      },
      "source": [
        "#Question no: 13\n",
        "\n",
        "n = int(input())\n",
        "l = list(input().split())\n",
        "m = int(input())\n",
        "k = list(input().split())\n",
        "\n",
        "s1 = set(l)\n",
        "s2 = set(k)\n",
        "\n",
        "print(len(s1.intersection(s2)))"
      ],
      "execution_count": null,
      "outputs": []
    },
    {
      "cell_type": "code",
      "metadata": {
        "id": "36EiIxLSpyix"
      },
      "source": [
        "#Question no: 14\n",
        "\n",
        "n = int(input())\n",
        "l = list(input().split())\n",
        "m = int(input())\n",
        "k = list(input().split())\n",
        "\n",
        "s1 = set(l)\n",
        "s2 = set(k)\n",
        "\n",
        "print(len(s1.difference(s2)))"
      ],
      "execution_count": null,
      "outputs": []
    },
    {
      "cell_type": "code",
      "metadata": {
        "id": "tRmOaWJozGry"
      },
      "source": [
        "#Question no: 15\n",
        "\n",
        "n = int(input())\n",
        "l = list(input().split())\n",
        "m = int(input())\n",
        "k = list(input().split())\n",
        "\n",
        "s1 = set(l)\n",
        "s2 = set(k)\n",
        "\n",
        "print(len(s1.symmetric_difference(s2)))"
      ],
      "execution_count": null,
      "outputs": []
    },
    {
      "cell_type": "code",
      "metadata": {
        "id": "bV9SmRnnzGu-"
      },
      "source": [
        "#Question no: 16\n",
        "\n",
        "if __name__ == '__main__':\n",
        "    (_, A) = (int(input()),set(map(int, input().split())))\n",
        "    B = int(input())\n",
        "    for _ in range(B):\n",
        "        (command, newSet) = (input().split()[0],set(map(int, input().split())))\n",
        "        getattr(A, command)(newSet)\n",
        "\n",
        "    print (sum(A))\n"
      ],
      "execution_count": null,
      "outputs": []
    },
    {
      "cell_type": "code",
      "metadata": {
        "id": "edkStw4g5QXZ"
      },
      "source": [
        "#Question no: 17\n",
        "\n",
        "k,arr = int(input()),list(map(int, input().split()))\n",
        "\n",
        "myset = set(arr)\n",
        "\n",
        "print(((sum(myset)*k)-(sum(arr)))//(k-1))"
      ],
      "execution_count": null,
      "outputs": []
    },
    {
      "cell_type": "code",
      "metadata": {
        "id": "DhicXuFt5Qed"
      },
      "source": [
        "#Question no: 18\n",
        "\n",
        "for _ in range(int(input())):\n",
        "    x, a, z, b = input(), set(input().split()), input(), set(input().split())\n",
        "    print(a.issubset(b))   "
      ],
      "execution_count": null,
      "outputs": []
    },
    {
      "cell_type": "code",
      "metadata": {
        "id": "bjuGT_0E7VEI"
      },
      "source": [
        "#Question no: 19\n",
        "\n",
        "def isstrictsuperset(x,y):\n",
        "    # true if x is a strict superset of y\n",
        "    return y.issubset(x) and not(x.issubset(y))\n",
        "\n",
        "x = set(int(a) for a in input().split(' '))\n",
        "n = int(input())\n",
        "res = True\n",
        "\n",
        "for _ in range(n):\n",
        "    y = set(int(a) for a in input().split(' '))\n",
        "    res &= isstrictsuperset(x,y)\n",
        "    \n",
        "print(res)"
      ],
      "execution_count": null,
      "outputs": []
    },
    {
      "cell_type": "code",
      "metadata": {
        "id": "G62d0AQO7VWE"
      },
      "source": [
        ""
      ],
      "execution_count": null,
      "outputs": []
    },
    {
      "cell_type": "code",
      "metadata": {
        "id": "ytBHi6UC5Qrk"
      },
      "source": [
        ""
      ],
      "execution_count": null,
      "outputs": []
    }
  ]
}