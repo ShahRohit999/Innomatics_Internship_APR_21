{
  "nbformat": 4,
  "nbformat_minor": 0,
  "metadata": {
    "colab": {
      "name": "Python Task-3.ipynb",
      "provenance": [],
      "collapsed_sections": []
    },
    "kernelspec": {
      "name": "python3",
      "display_name": "Python 3"
    },
    "language_info": {
      "name": "python"
    }
  },
  "cells": [
    {
      "cell_type": "code",
      "metadata": {
        "colab": {
          "base_uri": "https://localhost:8080/"
        },
        "id": "8zASfyzQQ9uq",
        "outputId": "07e61d55-92c9-4d89-9cc4-60d116b99948"
      },
      "source": [
        "#Question no: 1\n",
        "\n",
        "import cmath\n",
        "\n",
        "print(*cmath.polar(complex(1+2j)), sep='\\n')"
      ],
      "execution_count": null,
      "outputs": [
        {
          "output_type": "stream",
          "text": [
            "2.23606797749979\n",
            "1.1071487177940904\n"
          ],
          "name": "stdout"
        }
      ]
    },
    {
      "cell_type": "code",
      "metadata": {
        "id": "Zko6s90_S-rp",
        "colab": {
          "base_uri": "https://localhost:8080/"
        },
        "outputId": "fd5c2601-1182-418e-a7a9-fcabb706a641"
      },
      "source": [
        "#Question no :2\n",
        "\n",
        "import math\n",
        "a = int(input())\n",
        "b = int(input())\n",
        "M = math.sqrt(math.pow(a,2)+math.pow(b,2))\n",
        "theta = math.acos(b/M )\n",
        "print(str(round(math.degrees(theta)))+'°')\n"
      ],
      "execution_count": 34,
      "outputs": [
        {
          "output_type": "stream",
          "text": [
            "10\n",
            "10\n",
            "45°\n"
          ],
          "name": "stdout"
        }
      ]
    },
    {
      "cell_type": "code",
      "metadata": {
        "id": "sco4w7a8S-20",
        "colab": {
          "base_uri": "https://localhost:8080/"
        },
        "outputId": "862de363-5405-4076-884c-f1516e4e9391"
      },
      "source": [
        "#Question no : 3\n",
        "\n",
        "for i in range(1,int(input())+1):\n",
        " print (((10**i - 1)//9)**2)"
      ],
      "execution_count": 3,
      "outputs": [
        {
          "output_type": "stream",
          "text": [
            "5\n",
            "1\n",
            "121\n",
            "12321\n",
            "1234321\n",
            "123454321\n"
          ],
          "name": "stdout"
        }
      ]
    },
    {
      "cell_type": "code",
      "metadata": {
        "colab": {
          "base_uri": "https://localhost:8080/"
        },
        "id": "6D2dNtufR5SE",
        "outputId": "228058f5-09f9-4b41-fd9b-3ef342fdcdc3"
      },
      "source": [
        "#Question no :4\n",
        "\n",
        "a = int(input())\n",
        "b = int(input())\n",
        "\n",
        "print(a//b)\n",
        "print(a%b)\n",
        "print(divmod(a,b))"
      ],
      "execution_count": 28,
      "outputs": [
        {
          "output_type": "stream",
          "text": [
            "177\n",
            "10\n",
            "17\n",
            "7\n",
            "(17, 7)\n"
          ],
          "name": "stdout"
        }
      ]
    },
    {
      "cell_type": "code",
      "metadata": {
        "colab": {
          "base_uri": "https://localhost:8080/"
        },
        "id": "rW6h03CvR5Vn",
        "outputId": "36520272-1b34-4d69-f73d-bc78d617d0e8"
      },
      "source": [
        "#Question no: 5\n",
        "\n",
        "\n",
        "a=int(input())\n",
        "b=int(input())\n",
        "m=int(input())\n",
        "print(int(pow(a,b)))\n",
        "print(pow(a,b,m))\n"
      ],
      "execution_count": 35,
      "outputs": [
        {
          "output_type": "stream",
          "text": [
            "3\n",
            "4\n",
            "5\n",
            "81\n",
            "1\n"
          ],
          "name": "stdout"
        }
      ]
    },
    {
      "cell_type": "code",
      "metadata": {
        "colab": {
          "base_uri": "https://localhost:8080/"
        },
        "id": "iKQpqinqX-Qk",
        "outputId": "6d30e97d-2053-480f-a369-802cbab7a5bb"
      },
      "source": [
        "#Question no:6\n",
        "\n",
        "a=int(input())\n",
        "b=int(input())\n",
        "c=int(input())\n",
        "d=int(input())\n",
        "print(pow(a,b)+pow(c,d))"
      ],
      "execution_count": 36,
      "outputs": [
        {
          "output_type": "stream",
          "text": [
            "9\n",
            "29\n",
            "7\n",
            "27\n",
            "4710194409608608369201743232\n"
          ],
          "name": "stdout"
        }
      ]
    },
    {
      "cell_type": "code",
      "metadata": {
        "colab": {
          "base_uri": "https://localhost:8080/"
        },
        "id": "xA8l6E6ZX-dO",
        "outputId": "682aed1e-922a-42aa-f01c-7907b4d3a8a0"
      },
      "source": [
        " #Question no: 7\n",
        "\n",
        " for i in range(1,int(input())): \n",
        "    print(((10**i-1)//9)*i)\n",
        "  "
      ],
      "execution_count": 37,
      "outputs": [
        {
          "output_type": "stream",
          "text": [
            "5\n",
            "1\n",
            "22\n",
            "333\n",
            "4444\n"
          ],
          "name": "stdout"
        }
      ]
    },
    {
      "cell_type": "code",
      "metadata": {
        "id": "cJ0PXLCQX-lR"
      },
      "source": [
        ""
      ],
      "execution_count": null,
      "outputs": []
    }
  ]
}