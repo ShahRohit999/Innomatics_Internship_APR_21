{
  "nbformat": 4,
  "nbformat_minor": 0,
  "metadata": {
    "colab": {
      "name": "Python Task5 .ipynb",
      "provenance": [],
      "collapsed_sections": []
    },
    "kernelspec": {
      "name": "python3",
      "display_name": "Python 3"
    },
    "language_info": {
      "name": "python"
    }
  },
  "cells": [
    {
      "cell_type": "code",
      "metadata": {
        "colab": {
          "base_uri": "https://localhost:8080/"
        },
        "id": "uwvukZt4a58s",
        "outputId": "95ff1632-c035-442b-91c2-0096e40d229b"
      },
      "source": [
        "#Question no:1\n",
        "#Detect floating point number\n",
        "\n",
        "import re\n",
        "n= int(input())\n",
        "numbers = []\n",
        "for i in range(n):\n",
        "    i = input()\n",
        "    numbers.append(i)\n",
        "  \n",
        "for i in numbers:\n",
        "    print(bool(re.search(r'^[-+]?[0-9]*\\.[0-9]+$',i)))"
      ],
      "execution_count": null,
      "outputs": [
        {
          "output_type": "stream",
          "text": [
            "4\n",
            "4.000\n",
            "-1.00\n",
            "+4.54\n",
            "SomeRandomStuff\n",
            "True\n",
            "True\n",
            "True\n",
            "False\n"
          ],
          "name": "stdout"
        }
      ]
    },
    {
      "cell_type": "code",
      "metadata": {
        "colab": {
          "base_uri": "https://localhost:8080/"
        },
        "id": "gifuCVcIc8S9",
        "outputId": "99bc06ad-7dd4-494d-e290-835668d04f11"
      },
      "source": [
        "#Question no :2\n",
        "#Re.Split()\n",
        "\n",
        "import re\n",
        "s = input()\n",
        "for t in re.split(r\",|\\.\", s):\n",
        "    if t != '': print(t)\n"
      ],
      "execution_count": null,
      "outputs": [
        {
          "output_type": "stream",
          "text": [
            "100,000,000.000\n",
            "100\n",
            "000\n",
            "000\n",
            "000\n"
          ],
          "name": "stdout"
        }
      ]
    },
    {
      "cell_type": "code",
      "metadata": {
        "id": "-_Uv13mgc8lB",
        "colab": {
          "base_uri": "https://localhost:8080/"
        },
        "outputId": "6dd0efbc-1f6e-4024-9464-8a46e0d420b8"
      },
      "source": [
        "#Question no:3\n",
        "# Group(), Groups() & Groupdict()\n",
        "\n",
        "import re\n",
        "m = re.findall(r\"([A-Za-z0-9])\\1+\",input())\n",
        "if m:\n",
        "    print(m[0])\n",
        "else:\n",
        "    print(-1)"
      ],
      "execution_count": null,
      "outputs": [
        {
          "output_type": "stream",
          "text": [
            "..12345678910111213141516171820212223\n",
            "1\n"
          ],
          "name": "stdout"
        }
      ]
    },
    {
      "cell_type": "code",
      "metadata": {
        "colab": {
          "base_uri": "https://localhost:8080/"
        },
        "id": "mNIUqFV1BToL",
        "outputId": "b1643f76-8fa6-48a8-8fcb-6122c9ff0568"
      },
      "source": [
        "#Question no:4\n",
        "# Re.findall() & Re.finditer()\n",
        "\n",
        "import re\n",
        "v = \"aeiou\"\n",
        "c = \"qwrtypsdfghjklzxcvbnm\"\n",
        "m = re.findall(r\"(?<=[%s])([%s]{2,})[%s]\" % (c, v, c), input(), flags = re.I)\n",
        "print('\\n'.join(m or ['-1']))"
      ],
      "execution_count": null,
      "outputs": [
        {
          "output_type": "stream",
          "text": [
            "rabcdeefgyYhFjkIoomnpOeorteeeeet\n",
            "ee\n",
            "Ioo\n",
            "Oeo\n",
            "eeeee\n"
          ],
          "name": "stdout"
        }
      ]
    },
    {
      "cell_type": "code",
      "metadata": {
        "colab": {
          "base_uri": "https://localhost:8080/"
        },
        "id": "_uT_QjfEBTxX",
        "outputId": "0fb6c749-3bff-4865-9017-c180f91ba653"
      },
      "source": [
        "#Question no:5\n",
        "#Re.start() & Re.end()\n",
        "\n",
        "S = input()\n",
        "k = input()\n",
        "import re\n",
        "pattern = re.compile(k)\n",
        "r = pattern.search(S)\n",
        "if not r: print(\"(-1, -1)\")\n",
        "while r:\n",
        "    print(\"({0}, {1})\".format(r.start(), r.end() - 1))\n",
        "    r = pattern.search(S,r.start() + 1)"
      ],
      "execution_count": null,
      "outputs": [
        {
          "output_type": "stream",
          "text": [
            "aabcdeffgabcdef\n",
            "abcdef\n",
            "(1, 6)\n",
            "(9, 14)\n"
          ],
          "name": "stdout"
        }
      ]
    },
    {
      "cell_type": "code",
      "metadata": {
        "id": "eO397_9nBT4w"
      },
      "source": [
        "#Question no:6\n",
        "#Regex Substitution\n",
        "\n",
        "import re\n",
        "\n",
        "ii = int(input())\n",
        "\n",
        "for i in range(0,ii):\n",
        "   txt = input()\n",
        "   txt = re.sub(r\"\\ \\&\\&\\ \",\" and \",txt)\n",
        "   txt = re.sub(r\"\\ \\|\\|\\ \",\" or \",txt)\n",
        "   txt = re.sub(r\"\\ \\&\\&\\ \",\" and \",txt)\n",
        "   txt = re.sub(r\"\\ \\|\\|\\ \",\" or \",txt)\n",
        "   print(txt)"
      ],
      "execution_count": null,
      "outputs": []
    },
    {
      "cell_type": "code",
      "metadata": {
        "colab": {
          "base_uri": "https://localhost:8080/"
        },
        "id": "yklUqScF11r5",
        "outputId": "1bdba665-5371-4a76-8063-ccab1c908add"
      },
      "source": [
        "#Question no:7\n",
        "#Validating Roman Numerals:\n",
        "\n",
        "import re\n",
        "\n",
        "ptrn = r'^M{0,3}(CM|CD|D?C{0,3})(XC|XL|L?X{0,3})(IX|IV|V?I{0,3})$'\n",
        "s = input().strip()\n",
        "\n",
        "x = re.match(ptrn,s)\n",
        "if x:\n",
        "    print(True)\n",
        "else:\n",
        "    print(False)"
      ],
      "execution_count": null,
      "outputs": [
        {
          "output_type": "stream",
          "text": [
            "CDXXI\n",
            "True\n"
          ],
          "name": "stdout"
        }
      ]
    },
    {
      "cell_type": "code",
      "metadata": {
        "colab": {
          "base_uri": "https://localhost:8080/"
        },
        "id": "wHxG1QfA115z",
        "outputId": "bfce7508-91bd-4d9c-bb62-15f96ec39e88"
      },
      "source": [
        " #Question no:8\n",
        " # Validating Phone Numbers:\n",
        "\n",
        " import re\n",
        "for _ in range(int(input())):\n",
        "    if re.match(r'[789]\\d{9}$',input()):   \n",
        "        print('YES')  \n",
        "    else:  \n",
        "        print('NO')\n"
      ],
      "execution_count": null,
      "outputs": [
        {
          "output_type": "stream",
          "text": [
            "2\n",
            "9849150864\n",
            "YES\n",
            "2345789625\n",
            "NO\n"
          ],
          "name": "stdout"
        }
      ]
    },
    {
      "cell_type": "code",
      "metadata": {
        "colab": {
          "base_uri": "https://localhost:8080/"
        },
        "id": "ZOwnxnAK12Ib",
        "outputId": "1f9b9417-a7dd-4c78-80d9-e6ac475b02e4"
      },
      "source": [
        "#Question no :9\n",
        "#Validating and Parsing Email Address:\n",
        "\n",
        "import re\n",
        "import email.utils\n",
        "n = int(input().strip())\n",
        "temp =[]\n",
        "a = re.compile(r'<[a-z0-9][\\w._-]+@[a-z]+\\.[a-z]{1,3}>', re.I)\n",
        "for _ in range(n):\n",
        "    temp.append(input().strip())\n",
        "for i, x in enumerate(temp):\n",
        "    v =  a.search(x)\n",
        "    if v:\n",
        "        print(temp[i])\n",
        "      "
      ],
      "execution_count": null,
      "outputs": [
        {
          "output_type": "stream",
          "text": [
            "2\n",
            "ZACH <zach@hotmail.com>\n",
            "VIRUS <virus!@variable.:mn>\n",
            "ZACH <zach@hotmail.com>\n"
          ],
          "name": "stdout"
        }
      ]
    },
    {
      "cell_type": "code",
      "metadata": {
        "id": "uqJeTr2S5_qK"
      },
      "source": [
        "#Question no: 10\n",
        "# Hex Color Code Problem:\n",
        "\n",
        "import re\n",
        "N=int(input())\n",
        "\n",
        "for i in range(0,N):\n",
        "    s=input()\n",
        "\n",
        "    x=s.split()\n",
        "\n",
        "    if len(x)>1  and  '{' not in x:\n",
        "        x=re.findall(r'#[a-fA-F0-9]{3,6}',s)\n",
        "        [print(i) for  i in x]"
      ],
      "execution_count": null,
      "outputs": []
    },
    {
      "cell_type": "code",
      "metadata": {
        "colab": {
          "base_uri": "https://localhost:8080/"
        },
        "id": "CCLA1jlF5_zE",
        "outputId": "4482386a-6b61-4c78-b51d-118d8f56c5aa"
      },
      "source": [
        "#Question no :11\n",
        "# HTML Parser -Part1\n",
        "\n",
        "from html.parser import HTMLParser\n",
        "class MyHTMLParser(HTMLParser):\n",
        "    def handle_starttag(self, tag, attrs):        \n",
        "        print ('Start :',tag)\n",
        "        for ele in attrs:\n",
        "            print ('->',ele[0],'>',ele[1])\n",
        "            \n",
        "    def handle_endtag(self, tag):\n",
        "        print ('End   :',tag)\n",
        "        \n",
        "    def handle_startendtag(self, tag, attrs):\n",
        "        print ('Empty :',tag)\n",
        "        for ele in attrs:\n",
        "            print ('->',ele[0],'>',ele[1])\n",
        "            \n",
        "MyParser = MyHTMLParser()\n",
        "MyParser.feed(''.join([input().strip() for _ in range(int(input()))]))"
      ],
      "execution_count": null,
      "outputs": [
        {
          "output_type": "stream",
          "text": [
            "2\n",
            "<html><head><title>HTML Parser - I</title></head>\n",
            "<body data-modal-target class='1'><h1>HackerRank</h1><br /></body></html>\n",
            "Start : html\n",
            "Start : head\n",
            "Start : title\n",
            "End   : title\n",
            "End   : head\n",
            "Start : body\n",
            "-> data-modal-target > None\n",
            "-> class > 1\n",
            "Start : h1\n",
            "End   : h1\n",
            "Empty : br\n",
            "End   : body\n",
            "End   : html\n"
          ],
          "name": "stdout"
        }
      ]
    },
    {
      "cell_type": "code",
      "metadata": {
        "id": "ZDV9rv0A6ABI"
      },
      "source": [
        "#Question no: 12\n",
        "# HTML Parser- Part2\n",
        "\n",
        "from html.parser import HTMLParser\n",
        "html = \"\"\n",
        "class MyHTMLParser(HTMLParser):\n",
        "    def handle_comment(self,data):\n",
        "        if('\\n' in data):\n",
        "            print(\">>> Multi-line Comment\")\n",
        "        else:\n",
        "            print(\">>> Single-line Comment\")\n",
        "        print(data)\n",
        "    def handle_data(self,data):\n",
        "        if(data != '\\n'):\n",
        "            print(\">>> Data\")\n",
        "            print(data)\n",
        "             \n",
        "for i in range(int(input())):\n",
        "    html += input().rstrip()\n",
        "    html += '\\n'\n",
        "    \n",
        "parser = MyHTMLParser()\n",
        "parser.feed(html)\n",
        "parser.close()"
      ],
      "execution_count": null,
      "outputs": []
    },
    {
      "cell_type": "code",
      "metadata": {
        "id": "6jS5M_ftApTw"
      },
      "source": [
        "#Question no :13\n",
        "#Detect HTML Tags, Attributes and Attribute Values\n",
        "\n",
        "from html.parser import HTMLParser\n",
        "class MyHTMLParser(HTMLParser):\n",
        "    def handle_starttag(self, tag, attrs):\n",
        "        print(tag)\n",
        "        [print('-> {} > {}'.format(*attr)) for attr in attrs]\n",
        "        \n",
        "html = '\\n'.join([input() for _ in range(int(input()))])\n",
        "parser = MyHTMLParser()\n",
        "parser.feed(html)\n",
        "parser.close()"
      ],
      "execution_count": null,
      "outputs": []
    },
    {
      "cell_type": "code",
      "metadata": {
        "colab": {
          "base_uri": "https://localhost:8080/"
        },
        "id": "scDmwkKQApcX",
        "outputId": "3c7a263d-6496-4182-fec4-f484b900793e"
      },
      "source": [
        "#Question no: 14\n",
        "# Validating UID\n",
        "\n",
        "import re\n",
        "\n",
        "def valid_uid(uid):\n",
        "    if len(re.findall(r\"[A-Z]\", uid)) < 2 or \\\n",
        "            len(re.findall(r\"[0-9]\", uid)) < 3 or \\\n",
        "            not re.match(r\"[A-Za-z0-9]{10}$\", uid) or \\\n",
        "            len(set(uid)) != len(uid):\n",
        "        return False\n",
        "    \n",
        "    return True\n",
        "    \n",
        "n = int(input())\n",
        "for _ in range(n):\n",
        "    uid = input()\n",
        "    if valid_uid(uid):\n",
        "        print(\"Valid\")\n",
        "    else:\n",
        "        print(\"Invalid\")"
      ],
      "execution_count": null,
      "outputs": [
        {
          "output_type": "stream",
          "text": [
            "2\n",
            "B1CDEF2354\n",
            "Valid\n",
            "B1CD102354\n",
            "Invalid\n"
          ],
          "name": "stdout"
        }
      ]
    },
    {
      "cell_type": "code",
      "metadata": {
        "id": "IuvcVcRqCzSJ"
      },
      "source": [
        "#Question no: 15\n",
        "#Validating Credit Card Numbers:\n",
        "\n",
        "import re\n",
        "\n",
        "start_with_456 = lambda x: x[0]=='4' or x[0]=='5' or x[0]=='6'\n",
        "\n",
        "contain_16_digits = lambda x: bool(re.fullmatch(r'\\d{16}', ''.join(x.split('-'))))\n",
        "\n",
        "groups_of_4 = lambda x: all([len(i)==4 for i in x.split('-') if '-' in x])\n",
        "    \n",
        "repeating_characters = lambda x: not(bool(re.search(r'(\\d)\\1{3,}', ''.join(x.split('-')))))\n",
        "    \n",
        "tests = [start_with_456, contain_16_digits, groups_of_4, repeating_characters]\n",
        "\n",
        "N = int(input())\n",
        "for _ in range(N):\n",
        "    s = input()\n",
        "    if all(map(lambda x: x(s), tests)):\n",
        "        print('Valid')\n",
        "    else:\n",
        "        print('Invalid')\n",
        "      "
      ],
      "execution_count": null,
      "outputs": []
    },
    {
      "cell_type": "code",
      "metadata": {
        "colab": {
          "base_uri": "https://localhost:8080/"
        },
        "id": "WACnwnycCzeu",
        "outputId": "8b4f4f13-d412-42c7-da62-a3f68c4cb752"
      },
      "source": [
        "#Question no: 16\n",
        "#Validating Postal Codes:\n",
        "\n",
        "regex_integer_in_range = r\"_________\"\t\n",
        "regex_alternating_repetitive_digit_pair = r\"_________\"\t\n",
        "\n",
        "\n",
        "import re\n",
        "\n",
        "contain_6_digits = lambda x: bool(re.fullmatch(r'\\d{6}', x))\n",
        "\n",
        "alternate_digits = lambda x: len(re.findall(r'(\\d)\\1{1}', x[::2])) + len(re.findall(r'(\\d)\\1{1}', x[1::2])) < 2\n",
        "    \n",
        "tests = [contain_6_digits, alternate_digits]\n",
        "\n",
        "s = input()\n",
        "print(all(map(lambda x: x(s), tests)))\n",
        "\n",
        "import re\n",
        "P = input()\n",
        "\n",
        "print (bool(re.match(regex_integer_in_range, P)) \n",
        "and len(re.findall(regex_alternating_repetitive_digit_pair, P)) < 2)"
      ],
      "execution_count": null,
      "outputs": [
        {
          "output_type": "stream",
          "text": [
            "125489\n",
            "True\n",
            "101010\n",
            "False\n"
          ],
          "name": "stdout"
        }
      ]
    },
    {
      "cell_type": "code",
      "metadata": {
        "id": "mJnwg8T_ApkW"
      },
      "source": [
        "#Question no:17\n",
        "# Matrix Script\n",
        "\n",
        "#!/bin/python3\n",
        "\n",
        "import math\n",
        "import os\n",
        "import random\n",
        "import re\n",
        "import sys\n",
        "\n",
        "\n",
        "first_multiple_input = input().rstrip().split()\n",
        "\n",
        "n = int(first_multiple_input[0])\n",
        "\n",
        "m = int(first_multiple_input[1])\n",
        "\n",
        "matrix = []\n",
        "\n",
        "for _ in range(n):\n",
        "    matrix_item = input()\n",
        "    matrix.append(matrix_item)\n",
        "    \n",
        "    \n",
        "encoded_string = \"\".join([matrix[j][i] for i in range(m) for j in range(n)])\n",
        "pat = r'(?<=[a-zA-Z0-9])[^a-zA-Z0-9]+(?=[a-zA-Z0-9])'\n",
        "print(re.sub(pat,' ',encoded_string))"
      ],
      "execution_count": null,
      "outputs": []
    },
    {
      "cell_type": "code",
      "metadata": {
        "id": "DHfOgAyxI2jQ"
      },
      "source": [
        ""
      ],
      "execution_count": null,
      "outputs": []
    }
  ]
}