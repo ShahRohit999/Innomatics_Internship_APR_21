{
  "nbformat": 4,
  "nbformat_minor": 0,
  "metadata": {
    "colab": {
      "name": "Python Task4.ipynb",
      "provenance": [],
      "collapsed_sections": []
    },
    "kernelspec": {
      "name": "python3",
      "display_name": "Python 3"
    },
    "language_info": {
      "name": "python"
    }
  },
  "cells": [
    {
      "cell_type": "code",
      "metadata": {
        "colab": {
          "base_uri": "https://localhost:8080/"
        },
        "id": "Vi8tO4kgg3r8",
        "outputId": "e0248565-b2b9-41fd-89c7-8c087009e455"
      },
      "source": [
        "#Question no :1\n",
        "#Swap Case\n",
        "\n",
        "\n",
        "def swap_case(s):\n",
        "    return s.swapcase()\n",
        "\n",
        "if __name__ == '__main__':\n",
        "    s = input()\n",
        "    result = swap_case(s)\n",
        "    print(result)\n",
        "  "
      ],
      "execution_count": 4,
      "outputs": [
        {
          "output_type": "stream",
          "text": [
            "HackerRank.com presents \"Pythonist 2\".\n",
            "hACKERrANK.COM PRESENTS \"pYTHONIST 2\".\n"
          ],
          "name": "stdout"
        }
      ]
    },
    {
      "cell_type": "code",
      "metadata": {
        "colab": {
          "base_uri": "https://localhost:8080/"
        },
        "id": "6lcovE4fg4d2",
        "outputId": "361928dd-f202-4d8a-a0ed-818f75291f82"
      },
      "source": [
        "#Question no :2\n",
        "#String Split and Join\n",
        "\n",
        "def split_and_join(line):\n",
        "    line = line.split(\" \")\n",
        "    line = \"-\".join(line)\n",
        "    return line\n",
        "\n",
        "if __name__ == '__main__':\n",
        "    line = input()\n",
        "    result = split_and_join(line)\n",
        "    print(result)"
      ],
      "execution_count": 6,
      "outputs": [
        {
          "output_type": "stream",
          "text": [
            "This is a string .\n",
            "This-is-a-string-.\n"
          ],
          "name": "stdout"
        }
      ]
    },
    {
      "cell_type": "code",
      "metadata": {
        "colab": {
          "base_uri": "https://localhost:8080/"
        },
        "id": "h9bY8wX4g4ga",
        "outputId": "54cfecb5-7ad4-4bed-95f8-5e558841f53a"
      },
      "source": [
        " #Question no :3\n",
        " #What's your name:\n",
        "\n",
        "\n",
        " def print_full_name(first, last):\n",
        "    print(f\"Hello {first} {last}! You just delved into python.\")\n",
        "\n",
        "if __name__ == '__main__':\n",
        "    first_name = input()\n",
        "    last_name = input()\n",
        "    print_full_name(first_name, last_name)\n",
        "  "
      ],
      "execution_count": 8,
      "outputs": [
        {
          "output_type": "stream",
          "text": [
            "Ross\n",
            "Taylor\n",
            "Hello Ross Taylor! You just delved into python.\n"
          ],
          "name": "stdout"
        }
      ]
    },
    {
      "cell_type": "code",
      "metadata": {
        "id": "omSPF_hJg4j1",
        "colab": {
          "base_uri": "https://localhost:8080/"
        },
        "outputId": "96ffb9f2-6cba-4f09-ec37-c4e6ec1c89b3"
      },
      "source": [
        "#Question no 4:\n",
        "#Mutations\n",
        "\n",
        "def mutate_string(string, position, character):\n",
        "    return string[:position] + character + string[position + 1:]\n",
        "\n",
        "if __name__ == '__main__':\n",
        "    s = input()\n",
        "    i, c = input().split()\n",
        "    s_new = mutate_string(s, int(i), c)\n",
        "    print(s_new)"
      ],
      "execution_count": 9,
      "outputs": [
        {
          "output_type": "stream",
          "text": [
            "abracadabra\n",
            "5 k\n",
            "abrackdabra\n"
          ],
          "name": "stdout"
        }
      ]
    },
    {
      "cell_type": "code",
      "metadata": {
        "id": "wha-daaXg4nT",
        "colab": {
          "base_uri": "https://localhost:8080/"
        },
        "outputId": "796cf9e8-5056-4a67-ccdf-90739d05b25c"
      },
      "source": [
        "#Question no :5\n",
        "#Find a String:\n",
        "\n",
        "\n",
        "def count_substring(string, sub_string):\n",
        "    count = 0\n",
        "    for i in range(0, len(string)-len(sub_string)+1):\n",
        "        l = i\n",
        "        for j in range(0, len(sub_string)):\n",
        "            if string[l] == sub_string[j]:\n",
        "                l +=1\n",
        "                if j == len(sub_string)-1:\n",
        "                    count = count + 1\n",
        "                else:\n",
        "                    continue\n",
        "            else:\n",
        "                break\n",
        "            \n",
        "    return count\n",
        "\n",
        "if __name__ == '__main__':\n",
        "    string = input().strip()\n",
        "    sub_string = input().strip()\n",
        "    \n",
        "    count = count_substring(string, sub_string)\n",
        "    print(count)"
      ],
      "execution_count": 10,
      "outputs": [
        {
          "output_type": "stream",
          "text": [
            "ABCDCDC\n",
            "CDC\n",
            "2\n"
          ],
          "name": "stdout"
        }
      ]
    },
    {
      "cell_type": "code",
      "metadata": {
        "id": "0mlMPDH2g4r6",
        "colab": {
          "base_uri": "https://localhost:8080/"
        },
        "outputId": "83de76de-995a-436d-cf22-86fb6e40c430"
      },
      "source": [
        "#Question no :6\n",
        "#String Validators\n",
        "\n",
        "if __name__ == '__main__':\n",
        "    str = input()\n",
        "    print(any(x.isalnum() for x in str) )\n",
        "    print(any(x.isalpha() for x in str) )\n",
        "    print(any(x.isdigit() for x in str) )\n",
        "    print(any(x.islower() for x in str) )\n",
        "    print(any(x.isupper() for x in str) )\n",
        "\n"
      ],
      "execution_count": 11,
      "outputs": [
        {
          "output_type": "stream",
          "text": [
            "qA2\n",
            "True\n",
            "True\n",
            "True\n",
            "True\n",
            "True\n"
          ],
          "name": "stdout"
        }
      ]
    },
    {
      "cell_type": "code",
      "metadata": {
        "id": "pQZXW6Nag4tH",
        "colab": {
          "base_uri": "https://localhost:8080/"
        },
        "outputId": "98dce425-5ef9-4380-f205-e824277c9522"
      },
      "source": [
        "#Question no :7\n",
        "#Text alignment\n",
        "\n",
        "number = int(input())\n",
        "\n",
        "def cone (number):\n",
        "    width = number\n",
        "    h = \"\"\n",
        "    for i in range(width):\n",
        "        h = 'H'*(i+1) + \"H\"*i\n",
        "        h = h.rjust(width+i,' ') \n",
        "        print (h)\n",
        "    space = ((1 +(2*(number-1))) - number)/2\n",
        "    return(space)\n",
        "\n",
        "def alpha_H(number,space):\n",
        "    for i in range(number+1):\n",
        "        h = 'H'*number\n",
        "        line = h.rjust(len(h)+space,\" \") + h.rjust(len(h) *4,\" \")\n",
        "        print(line)\n",
        "    for i in range((number+1) //2):\n",
        "        line = (h*5).rjust(len(h)*5 +space, \" \")\n",
        "        print (line)\n",
        "    for i in range(number+1):\n",
        "        h = 'H'*number\n",
        "        line = h.rjust(len(h)+space,\" \") + h.rjust(len(h) *4,\" \")    \n",
        "        print(line)\n",
        "        \n",
        "def r_cone (number,space):\n",
        "    width = (number * 5)\n",
        "    h = \"\" \n",
        "    for i in range(number,-1,-1):\n",
        "        h = 'H'*(i-1) + \"H\"*i\n",
        "        h = h.rjust(width +i -1 ,' ')\n",
        "        print (h)\n",
        " \n",
        "        \n",
        "space = int(cone(number))\n",
        "alpha_H(number,space)\n",
        "r_cone(number,space)\n"
      ],
      "execution_count": null,
      "outputs": [
        {
          "output_type": "stream",
          "text": [
            "5\n",
            "    H\n",
            "   HHH\n",
            "  HHHHH\n",
            " HHHHHHH\n",
            "HHHHHHHHH\n",
            "  HHHHH               HHHHH\n",
            "  HHHHH               HHHHH\n",
            "  HHHHH               HHHHH\n",
            "  HHHHH               HHHHH\n",
            "  HHHHH               HHHHH\n",
            "  HHHHH               HHHHH\n",
            "  HHHHHHHHHHHHHHHHHHHHHHHHH\n",
            "  HHHHHHHHHHHHHHHHHHHHHHHHH\n",
            "  HHHHHHHHHHHHHHHHHHHHHHHHH\n",
            "  HHHHH               HHHHH\n",
            "  HHHHH               HHHHH\n",
            "  HHHHH               HHHHH\n",
            "  HHHHH               HHHHH\n",
            "  HHHHH               HHHHH\n",
            "  HHHHH               HHHHH\n",
            "                    HHHHHHHHH\n",
            "                     HHHHHHH\n",
            "                      HHHHH\n",
            "                       HHH\n",
            "                        H\n",
            "                        \n"
          ],
          "name": "stdout"
        }
      ]
    },
    {
      "cell_type": "code",
      "metadata": {
        "id": "UzOX7hoqg4vB",
        "colab": {
          "base_uri": "https://localhost:8080/"
        },
        "outputId": "fd82bdd1-1973-4d4d-a33c-3b01e0adb217"
      },
      "source": [
        "#Question no 8:\n",
        "#Text Wrap\n",
        "\n",
        "import textwrap\n",
        "\n",
        "def wrap(string, max_width):\n",
        "    wrapper = textwrap.TextWrapper(width=max_width) \n",
        "    dedented_text = textwrap.dedent(text=string) \n",
        "    result = wrapper.fill(text=dedented_text) \n",
        "    return result\n",
        "\n",
        "if __name__ == '__main__':\n",
        "    string, max_width = input(), int(input())\n",
        "    result = wrap(string, max_width)\n",
        "    print(result)"
      ],
      "execution_count": null,
      "outputs": [
        {
          "output_type": "stream",
          "text": [
            "ABCDEFGHIJKLIMNOQRSTUVWXYZ\n",
            "4\n",
            "ABCD\n",
            "EFGH\n",
            "IJKL\n",
            "IMNO\n",
            "QRST\n",
            "UVWX\n",
            "YZ\n"
          ],
          "name": "stdout"
        }
      ]
    },
    {
      "cell_type": "code",
      "metadata": {
        "id": "u_0PXlbSg4x4",
        "colab": {
          "base_uri": "https://localhost:8080/"
        },
        "outputId": "f90d3f29-2a54-4b37-b0e4-000c22989b8e"
      },
      "source": [
        "#Question no :9\n",
        "#Designer Door Mat\n",
        "\n",
        "n, m = map(int,input().split())\n",
        "pattern = [('.|.'*(2*i + 1)).center(m, '-') for i in range(n//2)]\n",
        "print('\\n'.join(pattern + ['WELCOME'.center(m, '-')] + pattern[::-1]))\n"
      ],
      "execution_count": 13,
      "outputs": [
        {
          "output_type": "stream",
          "text": [
            "15 45\n",
            "---------------------.|.---------------------\n",
            "------------------.|..|..|.------------------\n",
            "---------------.|..|..|..|..|.---------------\n",
            "------------.|..|..|..|..|..|..|.------------\n",
            "---------.|..|..|..|..|..|..|..|..|.---------\n",
            "------.|..|..|..|..|..|..|..|..|..|..|.------\n",
            "---.|..|..|..|..|..|..|..|..|..|..|..|..|.---\n",
            "-------------------WELCOME-------------------\n",
            "---.|..|..|..|..|..|..|..|..|..|..|..|..|.---\n",
            "------.|..|..|..|..|..|..|..|..|..|..|.------\n",
            "---------.|..|..|..|..|..|..|..|..|.---------\n",
            "------------.|..|..|..|..|..|..|.------------\n",
            "---------------.|..|..|..|..|.---------------\n",
            "------------------.|..|..|.------------------\n",
            "---------------------.|.---------------------\n"
          ],
          "name": "stdout"
        }
      ]
    },
    {
      "cell_type": "code",
      "metadata": {
        "colab": {
          "base_uri": "https://localhost:8080/"
        },
        "id": "g0McvYq5at7L",
        "outputId": "60ce7211-48f0-4331-9549-d70ecffbb6fc"
      },
      "source": [
        " #Question no : 10\n",
        " #String Formatting\n",
        "\n",
        " def print_formatted(number):\n",
        "    width=len(bin(number))-2\n",
        "    for num in range(1,number+1): \n",
        "        for base in ('d', 'o', 'X', 'b'):\n",
        "            print(\"{0:{width}{base}}\".format(num, base=base, width=width), end=' ')\n",
        "        print()\n",
        "if __name__ == '__main__':\n",
        "    n = int(input())\n",
        "    print_formatted(n)"
      ],
      "execution_count": 14,
      "outputs": [
        {
          "output_type": "stream",
          "text": [
            "10\n",
            "   1    1    1    1 \n",
            "   2    2    2   10 \n",
            "   3    3    3   11 \n",
            "   4    4    4  100 \n",
            "   5    5    5  101 \n",
            "   6    6    6  110 \n",
            "   7    7    7  111 \n",
            "   8   10    8 1000 \n",
            "   9   11    9 1001 \n",
            "  10   12    A 1010 \n"
          ],
          "name": "stdout"
        }
      ]
    },
    {
      "cell_type": "code",
      "metadata": {
        "colab": {
          "base_uri": "https://localhost:8080/"
        },
        "id": "Lja9J74Qat-n",
        "outputId": "2796af26-0fdf-4ae4-86d4-82f166dc7780"
      },
      "source": [
        "#Question no 11:\n",
        "#Alphabet Rangoli\n",
        "\n",
        "def print_rangoli(size):\n",
        "    alpha = \"abcdefghijklmnopqrstuvwxyz\"\n",
        "    data = [alpha[i] for i in range(n)]\n",
        "    items = list(range(n))\n",
        "    items = items[:-1]+items[::-1]\n",
        "    for i in items:\n",
        "        temp = data[-(i+1):]\n",
        "        row = temp[::-1]+temp[1:]\n",
        "        print(\"-\".join(row).center(n*4-3, \"-\"))\n",
        "\n",
        "\n",
        "if __name__ == '__main__':\n",
        "    n = int(input())\n",
        "    print_rangoli(n)\n"
      ],
      "execution_count": null,
      "outputs": [
        {
          "output_type": "stream",
          "text": [
            "9\n",
            "----------------i----------------\n",
            "--------------i-h-i--------------\n",
            "------------i-h-g-h-i------------\n",
            "----------i-h-g-f-g-h-i----------\n",
            "--------i-h-g-f-e-f-g-h-i--------\n",
            "------i-h-g-f-e-d-e-f-g-h-i------\n",
            "----i-h-g-f-e-d-c-d-e-f-g-h-i----\n",
            "--i-h-g-f-e-d-c-b-c-d-e-f-g-h-i--\n",
            "i-h-g-f-e-d-c-b-a-b-c-d-e-f-g-h-i\n",
            "--i-h-g-f-e-d-c-b-c-d-e-f-g-h-i--\n",
            "----i-h-g-f-e-d-c-d-e-f-g-h-i----\n",
            "------i-h-g-f-e-d-e-f-g-h-i------\n",
            "--------i-h-g-f-e-f-g-h-i--------\n",
            "----------i-h-g-f-g-h-i----------\n",
            "------------i-h-g-h-i------------\n",
            "--------------i-h-i--------------\n",
            "----------------i----------------\n"
          ],
          "name": "stdout"
        }
      ]
    },
    {
      "cell_type": "code",
      "metadata": {
        "id": "_KGtpKBNauGN",
        "colab": {
          "base_uri": "https://localhost:8080/"
        },
        "outputId": "765a2084-f9f3-4aef-9e20-f6e328be2ab7"
      },
      "source": [
        "#Question no : 12\n",
        "#Capitalize\n",
        "\n",
        "#!/bin/python3\n",
        "\n",
        "import math\n",
        "import os\n",
        "import random\n",
        "import re\n",
        "import sys\n",
        "\n",
        "\n",
        "def solve(s):\n",
        "    for x in s[:].split():\n",
        "        s = s.replace(x, x.capitalize())\n",
        "    return s\n",
        "\n",
        "if __name__ == '__main__':\n",
        "    fptr = open(os.environ['OUTPUT_PATH'], 'w')\n",
        "\n",
        "    s = input()\n",
        "\n",
        "    result = solve(s)\n",
        "\n",
        "    fptr.write(result + '\\n')\n",
        "\n",
        "    fptr.close()"
      ],
      "execution_count": null,
      "outputs": [
        {
          "output_type": "stream",
          "text": [
            "Nikola Tesla\n"
          ],
          "name": "stdout"
        }
      ]
    },
    {
      "cell_type": "code",
      "metadata": {
        "id": "Lt3vChSeauQ4",
        "colab": {
          "base_uri": "https://localhost:8080/"
        },
        "outputId": "1045c2ad-1949-4916-ff6f-b246b9743b62"
      },
      "source": [
        "#Question no :13\n",
        "#The Minion Game\n",
        "\n",
        "def minion_game(string):\n",
        "    vowels = 'AEIOU'\n",
        "    Stuart_score, Kevin_score = 0, 0\n",
        "    length = len(string)\n",
        "    for start_idx in range(length):\n",
        "        score = length - start_idx\n",
        "        if string[start_idx] in vowels:\n",
        "            Kevin_score += score\n",
        "        else:\n",
        "            Stuart_score += score\n",
        "    if Stuart_score == Kevin_score:\n",
        "        print('Draw')\n",
        "    if Stuart_score > Kevin_score:\n",
        "        print('Stuart {}'.format(Stuart_score))\n",
        "    if Stuart_score < Kevin_score:\n",
        "        print('Kevin {}'.format(Kevin_score))\n",
        "if __name__ == '__main__':\n",
        "    s = input()\n",
        "    minion_game(s)"
      ],
      "execution_count": 2,
      "outputs": [
        {
          "output_type": "stream",
          "text": [
            "BANANA\n",
            "Stuart 12\n"
          ],
          "name": "stdout"
        }
      ]
    },
    {
      "cell_type": "code",
      "metadata": {
        "colab": {
          "base_uri": "https://localhost:8080/"
        },
        "id": "-hwW9mERFKGq",
        "outputId": "a936f291-7222-4b14-8c80-fda570a45eec"
      },
      "source": [
        "#Question no:14\n",
        "#Merge the tools\n",
        "\n",
        "def merge_the_tools(string, k):\n",
        "    for part in zip(*[iter(string)] * k):\n",
        "        d = dict()\n",
        "        print(''.join([ d.setdefault(c, c) for c in part if c not in d ]))\n",
        "if __name__ == '__main__':\n",
        "    string, k = input(), int(input())\n",
        "    merge_the_tools(string, k)"
      ],
      "execution_count": 3,
      "outputs": [
        {
          "output_type": "stream",
          "text": [
            "AABCAAADA\n",
            "3\n",
            "AB\n",
            "CA\n",
            "AD\n"
          ],
          "name": "stdout"
        }
      ]
    }
  ]
}